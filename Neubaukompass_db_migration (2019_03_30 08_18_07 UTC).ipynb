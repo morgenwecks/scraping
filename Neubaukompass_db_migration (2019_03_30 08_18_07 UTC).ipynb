{
 "cells": [
  {
   "cell_type": "markdown",
   "metadata": {},
   "source": [
    "# Neubaukompass DB Migration"
   ]
  },
  {
   "cell_type": "markdown",
   "metadata": {},
   "source": [
    "## 1) Rationale"
   ]
  },
  {
   "cell_type": "markdown",
   "metadata": {},
   "source": [
    "The structure of the presented projects is on a different hierarchical level than the separate units we have presented so far.\n",
    "I decide to create a new database model on project level. Since the API is still in Alpha, and open wide, we can understand this as a playground for \"what works and what does not\".\n",
    "\n",
    "It is implied that the API calls have to be different. I suggest we pull the project scope rather than single flats for the entire portfolio."
   ]
  },
  {
   "cell_type": "markdown",
   "metadata": {},
   "source": [
    "## 2) Structure of dataframe, vet cleanliness"
   ]
  },
  {
   "cell_type": "code",
   "execution_count": 78,
   "metadata": {},
   "outputs": [],
   "source": [
    "import pandas as pd\n",
    "import numpy as np"
   ]
  },
  {
   "cell_type": "code",
   "execution_count": 79,
   "metadata": {},
   "outputs": [],
   "source": [
    "df = pd.read_csv('neubaukompass_20181129.csv', index_col = [0])"
   ]
  },
  {
   "cell_type": "code",
   "execution_count": 80,
   "metadata": {},
   "outputs": [
    {
     "data": {
      "text/plain": [
       "(719, 14)"
      ]
     },
     "execution_count": 80,
     "metadata": {},
     "output_type": "execute_result"
    }
   ],
   "source": [
    "df.shape"
   ]
  },
  {
   "cell_type": "markdown",
   "metadata": {},
   "source": [
    "It is suggested to keep the following elements:\n",
    "1. address\n",
    "2. city - **default sort(by = 'city')**\n",
    "3. developer\n",
    "4. image_location\n",
    "5. name\n",
    "6. subtitle? - **we ought to extract the number of flats & types, so that is a to do item**\n",
    "7. min_price - **it should be better to take them as thousands instead. Saves characters on Facebook quick replies**\n",
    "8. max_price\n",
    "9. min_size\n",
    "10. max_size\n",
    "11. completion_year\n",
    "12. custom_fields - **i have added this one, exceptionally as a JSON field**\n",
    "\n",
    "It is a learning that the unit model has been too convoluted. It may be nice to have all the information thrown in as many bins as possible, but on the project level, less is more. Since this will be shown in Facebook with a card, how much information can there be possibly needed?\n",
    "\n",
    "\n",
    "**In next scraper/wrangler verions, the \"no_information\" string has to be replaced by np.nan to avoid conflicting dtypes.\n",
    "Done below manually for quick implementation.**"
   ]
  },
  {
   "cell_type": "code",
   "execution_count": 103,
   "metadata": {},
   "outputs": [],
   "source": [
    "df = df.apply(lambda x: x.replace('no_information', np.nan))\n",
    "df = df.apply(lambda x: x.replace('auf Anfrage', np.nan))"
   ]
  },
  {
   "cell_type": "markdown",
   "metadata": {},
   "source": [
    "## 3) Model"
   ]
  },
  {
   "cell_type": "markdown",
   "metadata": {},
   "source": [
    "I choose to use text fields for all these entries except the min_price since number filtered queries will be made here.\n",
    "Being aware that this may result in expensive queries and mash-ups of datatypes, we may switch types later on when transferring to a stable release.\n",
    "Reason is that potentially others will enter information via forms, and any analysis of figures that will be done can perform a conversion when or after querying the database.\n",
    "\n",
    "Furthermore, I chose not to use any calculated fields with property decorators. That messes things up and won't help with DB manipulation as per experience. \n",
    "We keep it static over there and in case we need to calculate and manipulate, we do that in whatever tool fancied after ETL."
   ]
  },
  {
   "cell_type": "markdown",
   "metadata": {},
   "source": [
    "### Model: Naming convention & access"
   ]
  },
  {
   "cell_type": "markdown",
   "metadata": {},
   "source": [
    "As usual, the server is spun up at Heroku with an always-alive Dyno (since FB is quite impatient, we cannot wait for an app to wake up and send a response).\n",
    "We use mighty-temple for now.\n",
    "\n",
    "**Workspace:** python-getting-started (heroku template)\n",
    "\n",
    "**App Name:** hello\n",
    "\n",
    "**Model Name:** project\n",
    "\n",
    "**Url Pattern:** r'^projects/$\n",
    "\n",
    "**_CAREFUL:_**: App URLs are redirected entirely to hello.urls for now, except path 'admin', for obvious reasons\n",
    "\n",
    "**Requirements & Dependencies**: Nothing new"
   ]
  },
  {
   "cell_type": "markdown",
   "metadata": {},
   "source": [
    "### Model: Initial Commit"
   ]
  },
  {
   "cell_type": "markdown",
   "metadata": {},
   "source": [
    "Model \"Project\" has been committed with adjacent views and callable API (GET, POST) to mighty temple.\n",
    "\n",
    "Migration name was .0046_project, status **OK** raised."
   ]
  },
  {
   "cell_type": "markdown",
   "metadata": {},
   "source": [
    "## 4) Filling Migration with initial data"
   ]
  },
  {
   "cell_type": "markdown",
   "metadata": {},
   "source": [
    "### Testing positive API response"
   ]
  },
  {
   "cell_type": "code",
   "execution_count": 3,
   "metadata": {},
   "outputs": [],
   "source": [
    "import requests"
   ]
  },
  {
   "cell_type": "code",
   "execution_count": 14,
   "metadata": {},
   "outputs": [],
   "source": [
    "res = requests.get('https://mighty-temple-99148.herokuapp.com/projects/')"
   ]
  },
  {
   "cell_type": "code",
   "execution_count": 15,
   "metadata": {},
   "outputs": [
    {
     "data": {
      "text/plain": [
       "<Response [200]>"
      ]
     },
     "execution_count": 15,
     "metadata": {},
     "output_type": "execute_result"
    }
   ],
   "source": [
    "res"
   ]
  },
  {
   "cell_type": "markdown",
   "metadata": {},
   "source": [
    "Response was positive for GET. Moving on to post JSONified information from Neubaukompass."
   ]
  },
  {
   "cell_type": "markdown",
   "metadata": {},
   "source": [
    "## POST request with project data to our db via our API"
   ]
  },
  {
   "cell_type": "code",
   "execution_count": 119,
   "metadata": {},
   "outputs": [
    {
     "name": "stdout",
     "output_type": "stream",
     "text": [
      "progress: 0.9986091794158554% done\n",
      "row:718\n",
      "{'address': '71154 Nufringen,                 ', 'city': 'stuttgart', 'completion': 'vsl. 2019', 'developer': 'GA BauArt', 'image_location': nan, 'name': 'Eigentumswohnungen am Naturpark Schönbuch', 'price': nan, 'size': nan, 'subtitle': 'Neubau von 4 Eigentumswohnungen', 'min_price': nan, 'max_price': nan, 'min_size': nan, 'max_size': nan, 'completion_year': '2019'}\n"
     ]
    }
   ],
   "source": [
    "from IPython.display import clear_output\n",
    "for index, values in df.iterrows():\n",
    "    clear_output(wait=True)\n",
    "    progress = index / df.shape[0]\n",
    "    print(f'progress: {progress}% done')\n",
    "    print(f'row:{index}')\n",
    "    query = values.to_dict()\n",
    "    print(query)\n",
    "    requests.post(url = 'https://mighty-temple-99148.herokuapp.com/projects/', data = query)"
   ]
  },
  {
   "cell_type": "markdown",
   "metadata": {},
   "source": [
    "All done successfully. Response times acceptable."
   ]
  },
  {
   "cell_type": "markdown",
   "metadata": {},
   "source": [
    "## Testing query"
   ]
  },
  {
   "cell_type": "code",
   "execution_count": 120,
   "metadata": {},
   "outputs": [],
   "source": [
    "res = requests.get('https://mighty-temple-99148.herokuapp.com/projects/')"
   ]
  },
  {
   "cell_type": "code",
   "execution_count": 121,
   "metadata": {},
   "outputs": [],
   "source": [
    "import json"
   ]
  },
  {
   "cell_type": "code",
   "execution_count": 122,
   "metadata": {},
   "outputs": [],
   "source": [
    "res_df = pd.DataFrame(json.loads(res.content),)"
   ]
  },
  {
   "cell_type": "markdown",
   "metadata": {},
   "source": [
    "res.content revealed initial empty entries from configuration and testing, those have been removed via psql. Hence:"
   ]
  },
  {
   "cell_type": "code",
   "execution_count": 131,
   "metadata": {},
   "outputs": [
    {
     "data": {
      "text/plain": [
       "470"
      ]
     },
     "execution_count": 131,
     "metadata": {},
     "output_type": "execute_result"
    }
   ],
   "source": [
    "len(res_df['min_price'].values)"
   ]
  },
  {
   "cell_type": "markdown",
   "metadata": {},
   "source": [
    "It is evident that for IntegerFields, nan cannot be accepted. It won't help our projects anyway, since we take budget into consideration."
   ]
  },
  {
   "cell_type": "markdown",
   "metadata": {},
   "source": [
    "## Testing filter"
   ]
  },
  {
   "cell_type": "code",
   "execution_count": 141,
   "metadata": {},
   "outputs": [
    {
     "data": {
      "text/plain": [
       "b'[{\"address\":\"Eichhorster Stra\\xc3\\x9fe 14, 12689 Berlin, Marzahn,\",\"city\":\"berlin\",\"developer\":\"CESA Unternehmensgruppe\",\"image_location\":\"https://neubaukompass.de//bilder/objekt/13856/4-mittel.jpg\",\"name\":\"Eichhorst14\",\"subtitle\":\"Neubau von Eigentumswohnungen\",\"min_price\":106795,\"max_price\":\"567300\",\"min_size\":\"31.0\",\"max_size\":\"122.0\",\"completion_year\":\"2020\",\"custom_fields\":null},{\"address\":\"Romain-Rolland-Stra\\xc3\\x9fe,  Berlin, Heinersdorf,\",\"city\":\"berlin\",\"developer\":\"BSK Immobilien\",\"image_location\":\"https://neubaukompass.de//bilder/objekt/15964/159155-mittel.jpg\",\"name\":\"Romaine Berlin-Pankow\",\"subtitle\":\"Neubau von 69 Mikroapartments\",\"min_price\":100845,\"max_price\":\"232926\",\"min_size\":\"21.0\",\"max_size\":\"52.0\",\"completion_year\":\"2018\",\"custom_fields\":null},{\"address\":\"Pappelallee 14-17, 14469 Potsdam, Bornstedt,\",\"city\":\"berlin\",\"developer\":\"PROJECT Immobilien\",\"image_location\":\"https://neubaukompass.de//bilder/objekt/16245/166859-mittel.jpg\",\"name\":\"Studio Living Potsdam P.1\",\"subtitle\":\"Neubau von 214 Studentenapartments\",\"min_price\":109500,\"max_price\":\"356000\",\"min_size\":\"19.46\",\"max_size\":\"62.4\",\"completion_year\":\"nan\",\"custom_fields\":null},{\"address\":\"Rheingaustra\\xc3\\x9fe 1a, 65375 Oestrich-Winkel,\",\"city\":\"frankfurt\",\"developer\":\"Cube Real Estate GmbH\",\"image_location\":\"https://neubaukompass.de//bilder/objekt/13823/33-mittel.jpg\",\"name\":\"Studentenapartments Oestrich-Winkel\",\"subtitle\":\"Neubau von 128 Studentenapartments\",\"min_price\":99000,\"max_price\":\"nan\",\"min_size\":\"21.0\",\"max_size\":\"98.0\",\"completion_year\":\"nan\",\"custom_fields\":null},{\"address\":\"Nappenhorn 2, 25355 Barmstedt,\",\"city\":\"hamburg\",\"developer\":\"Sparda Immobilien\",\"image_location\":\"https://neubaukompass.de//bilder/objekt/16179/163787-mittel.jpg\",\"name\":\"Wohnpark an der Genom\\xc3\\xbchle\",\"subtitle\":\"Neubau von 72 Eigentumswohnungen zur Kapitalanlage\",\"min_price\":115000,\"max_price\":\"nan\",\"min_size\":\"39.0\",\"max_size\":\"79.0\",\"completion_year\":\"2020\",\"custom_fields\":null},{\"address\":\"Wilhelmstra\\xc3\\x9fe, 53604 Bad Honnef,\",\"city\":\"koeln\",\"developer\":\"MK Immobiliengruppe\",\"image_location\":\"https://neubaukompass.de//bilder/objekt/13781/14-mittel.jpg\",\"name\":\"Wolke 7 Bad Honnef\",\"subtitle\":\"Neubau von 39 Eigentumswohnungen\",\"min_price\":120000,\"max_price\":\"540000\",\"min_size\":\"nan\",\"max_size\":\"nan\",\"completion_year\":\"nan\",\"custom_fields\":null}]'"
      ]
     },
     "execution_count": 141,
     "metadata": {},
     "output_type": "execute_result"
    }
   ],
   "source": [
    "requests.get('https://mighty-temple-99148.herokuapp.com/projects/?min_price=&min_price_filter=120000').content"
   ]
  },
  {
   "cell_type": "code",
   "execution_count": null,
   "metadata": {},
   "outputs": [],
   "source": []
  }
 ],
 "metadata": {
  "kernelspec": {
   "display_name": "Python 3",
   "language": "python",
   "name": "python3"
  },
  "language_info": {
   "codemirror_mode": {
    "name": "ipython",
    "version": 3
   },
   "file_extension": ".py",
   "mimetype": "text/x-python",
   "name": "python",
   "nbconvert_exporter": "python",
   "pygments_lexer": "ipython3",
   "version": "3.6.5"
  }
 },
 "nbformat": 4,
 "nbformat_minor": 2
}
