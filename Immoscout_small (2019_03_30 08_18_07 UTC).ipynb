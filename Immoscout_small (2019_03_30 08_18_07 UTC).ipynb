{
 "cells": [
  {
   "cell_type": "code",
   "execution_count": 113,
   "metadata": {},
   "outputs": [],
   "source": [
    "import requests\n",
    "import matplotlib.pyplot as plt\n",
    "%matplotlib inline\n",
    "import pandas as pd\n",
    "import bs4 as bs\n",
    "import numpy as np"
   ]
  },
  {
   "cell_type": "code",
   "execution_count": 26,
   "metadata": {},
   "outputs": [],
   "source": [
    "res = requests.get('https://www.immobilienscout24.de/Suche/S-T/Wohnung-Miete/Hessen/Frankfurt-am-Main/-/-/25,00-30,00/-/-/-/-/-/-/-/-/-/-/-/-/-/-/-/m_f6bliert')"
   ]
  },
  {
   "cell_type": "code",
   "execution_count": 27,
   "metadata": {},
   "outputs": [],
   "source": [
    "soup = bs.BeautifulSoup(res.text)"
   ]
  },
  {
   "cell_type": "code",
   "execution_count": 28,
   "metadata": {},
   "outputs": [],
   "source": [
    "lvl1 = soup.find_all('ul', {'id':'resultListItems'})"
   ]
  },
  {
   "cell_type": "code",
   "execution_count": 38,
   "metadata": {},
   "outputs": [],
   "source": [
    "lvl2 = [entry.find_all('li', {'class':'result-list__listing'}) for entry in lvl1]\n",
    "#lvl2 contains the listing ID's"
   ]
  },
  {
   "cell_type": "code",
   "execution_count": 44,
   "metadata": {},
   "outputs": [],
   "source": [
    "lvl3 = [entry.find_all('div') for entry in lvl2[0]]"
   ]
  },
  {
   "cell_type": "code",
   "execution_count": 46,
   "metadata": {},
   "outputs": [
    {
     "data": {
      "text/plain": [
       "20"
      ]
     },
     "execution_count": 46,
     "metadata": {},
     "output_type": "execute_result"
    }
   ],
   "source": [
    "len(lvl3)"
   ]
  },
  {
   "cell_type": "code",
   "execution_count": 62,
   "metadata": {},
   "outputs": [
    {
     "data": {
      "text/plain": [
       "'schickes möbliertes Apartment, zentrale Lage, gute Anbindungen - Ihre neue Wohnung'"
      ]
     },
     "execution_count": 62,
     "metadata": {},
     "output_type": "execute_result"
    }
   ],
   "source": [
    "lvl3[1][0].find('h5').text"
   ]
  },
  {
   "cell_type": "markdown",
   "metadata": {},
   "source": [
    "going down the tree in 3 lvls is enough"
   ]
  },
  {
   "cell_type": "code",
   "execution_count": 64,
   "metadata": {},
   "outputs": [],
   "source": [
    "titles = []\n",
    "for index, content in enumerate(lvl3):\n",
    "    titles.append(lvl3[index][0].find('h5').text)"
   ]
  },
  {
   "cell_type": "code",
   "execution_count": 65,
   "metadata": {},
   "outputs": [
    {
     "data": {
      "text/plain": [
       "['Exklusive möblierte Wohnung in Mainufer- Nähe',\n",
       " 'schickes möbliertes Apartment, zentrale Lage, gute Anbindungen - Ihre neue Wohnung',\n",
       " 'ab 01.11 - Apartment mit 29 m², voll ausgestattet, möbliert - Zentral in Niederrad, Nahe Rennbahn',\n",
       " 'ab sofort - Penthouse-Wohnung, Blick auf die Bankenmetropole FFM - Zentrale Lage, Triftstraße',\n",
       " 'Wohnung komplett möbliert mit AC, Triftstraße - Nahe Rennbahn, Zentrum, EZB, Flughafen',\n",
       " 'NEU3er WG, Nähe FH Frankfurt',\n",
       " 'NEUVollmöblierte Wohnung in Eschersheim, Neubau/Erstbezug, hochwertige Ausstattung, 2 Min zur U 1/2/3/8',\n",
       " 'NEUMöblierte Wohnung auf Zeit zu vermieten:',\n",
       " 'NEUMöblierte Wohnung auf Zeit zu vermieten:',\n",
       " 'Möblierte Wohnung auf Zeit zu vermieten:',\n",
       " 'Möblierte Wohnung auf Zeit zu vermieten:',\n",
       " 'Möblierte Wohnung auf Zeit zu vermieten:',\n",
       " 'Frankfurt-Sachsenhausen schönes Zimmer in exkl.4-Zi.Whg. in \"Frauen WG\"',\n",
       " 'MÖBLIERTES 1-Zi-Altbau-App. mit Kochnische, Küche, Bad, Flur - Nähe Kirchplatz und Leipziger Straße',\n",
       " 'Möblierte Wohnung auf Zeit zu vermieten:',\n",
       " 'Möblierte Wohnung auf Zeit zu vermieten:',\n",
       " 'Hochwertig vollmöbliertes Apartment in Sachsenhausen-Nord - Anschauen lohnt sich!',\n",
       " 'Alles inklusive! Modern möblierte 1 Zimmerwohnung in ruhiger Lage',\n",
       " 'Möblierte Wohnung auf Zeit zu vermieten:',\n",
       " 'Möblierte Wohnung auf Zeit zu vermieten:']"
      ]
     },
     "execution_count": 65,
     "metadata": {},
     "output_type": "execute_result"
    }
   ],
   "source": [
    "titles"
   ]
  },
  {
   "cell_type": "code",
   "execution_count": 87,
   "metadata": {},
   "outputs": [],
   "source": [
    "locations = []\n",
    "for index, content in enumerate(lvl3):\n",
    "    locations.append(lvl3[index][0].find('div', {'class':'font-ellipsis'}).text)"
   ]
  },
  {
   "cell_type": "code",
   "execution_count": 68,
   "metadata": {},
   "outputs": [
    {
     "data": {
      "text/plain": [
       "['Sandhöfer Allee 10, Sachsenhausen-Süd, Frankfurt am Main',\n",
       " 'Triftstraße 53, Niederrad, Frankfurt am Main',\n",
       " 'Triftstraße 53, Niederrad, Frankfurt am Main',\n",
       " 'Triftstraße 53, Niederrad, Frankfurt am Main',\n",
       " 'Triftstraße 53, Niederrad, Frankfurt am Main',\n",
       " 'Höhenstrasse 49, Nordend-Ost, Frankfurt am Main',\n",
       " 'Nußzeil 2, Eschersheim, Frankfurt am Main',\n",
       " 'Ostendstr.  000, Ostend, Frankfurt am Main',\n",
       " 'Grüneburgweg  000, Westend-Süd, Frankfurt am Main',\n",
       " 'Willemerstr.  000, Sachsenhausen-Nord, Frankfurt am Main',\n",
       " 'Sternstraße 000, Nordend-West, Frankfurt am Main',\n",
       " 'Textorstr. 000, Sachsenhausen-Nord, Frankfurt am Main',\n",
       " 'Bindingstrasse 12, Sachsenhausen-Süd, Frankfurt am Main',\n",
       " 'Florastraße  10, Bockenheim, Frankfurt am Main',\n",
       " 'Fürstenbergerstr. 000, Westend-Nord, Frankfurt am Main',\n",
       " 'Wehrhofstr.  000, Rödelheim, Frankfurt am Main',\n",
       " 'Sachsenhausen-Nord, Frankfurt am Main',\n",
       " 'Zeilsheim, Frankfurt am Main',\n",
       " 'Oppenheimer Str.  000, Sachsenhausen-Nord, Frankfurt am Main',\n",
       " 'Bettinastr.  000, Westend-Süd, Frankfurt am Main']"
      ]
     },
     "execution_count": 68,
     "metadata": {},
     "output_type": "execute_result"
    }
   ],
   "source": [
    "locations"
   ]
  },
  {
   "cell_type": "code",
   "execution_count": 90,
   "metadata": {},
   "outputs": [],
   "source": [
    "details = []\n",
    "for index, content in enumerate(lvl3):\n",
    "    details.append(lvl3[index][0].find_all('dd', {'class':\"font-nowrap font-line-xs\"}))"
   ]
  },
  {
   "cell_type": "code",
   "execution_count": 92,
   "metadata": {},
   "outputs": [
    {
     "data": {
      "text/plain": [
       "'28 m²'"
      ]
     },
     "execution_count": 92,
     "metadata": {},
     "output_type": "execute_result"
    }
   ],
   "source": [
    "details[0][1].text"
   ]
  },
  {
   "cell_type": "code",
   "execution_count": 98,
   "metadata": {},
   "outputs": [],
   "source": [
    "size = []\n",
    "for index,content in enumerate(details):\n",
    "    size.append(details[index][1].text)"
   ]
  },
  {
   "cell_type": "code",
   "execution_count": 104,
   "metadata": {},
   "outputs": [],
   "source": [
    "size = [x[:-3] for x in size]"
   ]
  },
  {
   "cell_type": "code",
   "execution_count": 109,
   "metadata": {},
   "outputs": [],
   "source": [
    "size = [float(x.replace(',', '.')) for x in size]"
   ]
  },
  {
   "cell_type": "code",
   "execution_count": 110,
   "metadata": {},
   "outputs": [
    {
     "data": {
      "text/plain": [
       "[28.0,\n",
       " 29.0,\n",
       " 29.0,\n",
       " 29.53,\n",
       " 26.5,\n",
       " 25.0,\n",
       " 30.0,\n",
       " 30.0,\n",
       " 30.0,\n",
       " 28.0,\n",
       " 28.0,\n",
       " 26.0,\n",
       " 25.0,\n",
       " 25.0,\n",
       " 30.0,\n",
       " 30.0,\n",
       " 30.0,\n",
       " 30.0,\n",
       " 30.0,\n",
       " 29.0]"
      ]
     },
     "execution_count": 110,
     "metadata": {},
     "output_type": "execute_result"
    }
   ],
   "source": [
    "size"
   ]
  },
  {
   "cell_type": "code",
   "execution_count": 130,
   "metadata": {},
   "outputs": [],
   "source": [
    "rent = []\n",
    "for index,content in enumerate(details):\n",
    "    rent.append(details[index][0].text)"
   ]
  },
  {
   "cell_type": "code",
   "execution_count": 133,
   "metadata": {},
   "outputs": [],
   "source": [
    "rent = [float(x[:-2].replace('.','')) for x in rent]"
   ]
  },
  {
   "cell_type": "code",
   "execution_count": 134,
   "metadata": {},
   "outputs": [],
   "source": [
    "df = pd.DataFrame([locations, size, rent])"
   ]
  },
  {
   "cell_type": "code",
   "execution_count": 136,
   "metadata": {},
   "outputs": [],
   "source": [
    "df = df.transpose()"
   ]
  },
  {
   "cell_type": "code",
   "execution_count": 137,
   "metadata": {},
   "outputs": [],
   "source": [
    "df.columns= ['location','size','rent']"
   ]
  },
  {
   "cell_type": "code",
   "execution_count": 143,
   "metadata": {},
   "outputs": [],
   "source": [
    "def quote(x):\n",
    "    return x['rent'] / x['size']"
   ]
  },
  {
   "cell_type": "code",
   "execution_count": 144,
   "metadata": {},
   "outputs": [],
   "source": [
    "df['rent_per_sqm'] = df.apply(quote, axis = 1)"
   ]
  },
  {
   "cell_type": "code",
   "execution_count": 148,
   "metadata": {},
   "outputs": [],
   "source": [
    "df.drop(['rent_by_sqm'], inplace = True, axis = 1)"
   ]
  },
  {
   "cell_type": "code",
   "execution_count": 168,
   "metadata": {},
   "outputs": [],
   "source": [
    "df['location'] = df['location'].apply(lambda x: x.replace(', Frankfurt am Main',''))"
   ]
  },
  {
   "cell_type": "code",
   "execution_count": 171,
   "metadata": {},
   "outputs": [
    {
     "data": {
      "text/html": [
       "<div>\n",
       "<style scoped>\n",
       "    .dataframe tbody tr th:only-of-type {\n",
       "        vertical-align: middle;\n",
       "    }\n",
       "\n",
       "    .dataframe tbody tr th {\n",
       "        vertical-align: top;\n",
       "    }\n",
       "\n",
       "    .dataframe thead th {\n",
       "        text-align: right;\n",
       "    }\n",
       "</style>\n",
       "<table border=\"1\" class=\"dataframe\">\n",
       "  <thead>\n",
       "    <tr style=\"text-align: right;\">\n",
       "      <th></th>\n",
       "      <th>location</th>\n",
       "      <th>size</th>\n",
       "      <th>rent</th>\n",
       "      <th>rent_per_sqm</th>\n",
       "    </tr>\n",
       "  </thead>\n",
       "  <tbody>\n",
       "    <tr>\n",
       "      <th>0</th>\n",
       "      <td>Sandhöfer Allee 10, Sachsenhausen-Süd</td>\n",
       "      <td>28</td>\n",
       "      <td>700</td>\n",
       "      <td>25.000000</td>\n",
       "    </tr>\n",
       "    <tr>\n",
       "      <th>1</th>\n",
       "      <td>Triftstraße 53, Niederrad</td>\n",
       "      <td>29</td>\n",
       "      <td>1095</td>\n",
       "      <td>37.758621</td>\n",
       "    </tr>\n",
       "    <tr>\n",
       "      <th>2</th>\n",
       "      <td>Triftstraße 53, Niederrad</td>\n",
       "      <td>29</td>\n",
       "      <td>1095</td>\n",
       "      <td>37.758621</td>\n",
       "    </tr>\n",
       "    <tr>\n",
       "      <th>3</th>\n",
       "      <td>Triftstraße 53, Niederrad</td>\n",
       "      <td>29.53</td>\n",
       "      <td>1150</td>\n",
       "      <td>38.943447</td>\n",
       "    </tr>\n",
       "    <tr>\n",
       "      <th>4</th>\n",
       "      <td>Triftstraße 53, Niederrad</td>\n",
       "      <td>26.5</td>\n",
       "      <td>975</td>\n",
       "      <td>36.792453</td>\n",
       "    </tr>\n",
       "    <tr>\n",
       "      <th>5</th>\n",
       "      <td>Höhenstrasse 49, Nordend-Ost</td>\n",
       "      <td>25</td>\n",
       "      <td>440</td>\n",
       "      <td>17.600000</td>\n",
       "    </tr>\n",
       "    <tr>\n",
       "      <th>6</th>\n",
       "      <td>Nußzeil 2, Eschersheim</td>\n",
       "      <td>30</td>\n",
       "      <td>770</td>\n",
       "      <td>25.666667</td>\n",
       "    </tr>\n",
       "    <tr>\n",
       "      <th>7</th>\n",
       "      <td>Ostendstr.  000, Ostend</td>\n",
       "      <td>30</td>\n",
       "      <td>1200</td>\n",
       "      <td>40.000000</td>\n",
       "    </tr>\n",
       "    <tr>\n",
       "      <th>8</th>\n",
       "      <td>Grüneburgweg  000, Westend-Süd</td>\n",
       "      <td>30</td>\n",
       "      <td>1250</td>\n",
       "      <td>41.666667</td>\n",
       "    </tr>\n",
       "    <tr>\n",
       "      <th>9</th>\n",
       "      <td>Willemerstr.  000, Sachsenhausen-Nord</td>\n",
       "      <td>28</td>\n",
       "      <td>980</td>\n",
       "      <td>35.000000</td>\n",
       "    </tr>\n",
       "    <tr>\n",
       "      <th>10</th>\n",
       "      <td>Sternstraße 000, Nordend-West</td>\n",
       "      <td>28</td>\n",
       "      <td>1100</td>\n",
       "      <td>39.285714</td>\n",
       "    </tr>\n",
       "    <tr>\n",
       "      <th>11</th>\n",
       "      <td>Textorstr. 000, Sachsenhausen-Nord</td>\n",
       "      <td>26</td>\n",
       "      <td>1250</td>\n",
       "      <td>48.076923</td>\n",
       "    </tr>\n",
       "    <tr>\n",
       "      <th>12</th>\n",
       "      <td>Bindingstrasse 12, Sachsenhausen-Süd</td>\n",
       "      <td>25</td>\n",
       "      <td>600</td>\n",
       "      <td>24.000000</td>\n",
       "    </tr>\n",
       "    <tr>\n",
       "      <th>13</th>\n",
       "      <td>Florastraße  10, Bockenheim</td>\n",
       "      <td>25</td>\n",
       "      <td>380</td>\n",
       "      <td>15.200000</td>\n",
       "    </tr>\n",
       "    <tr>\n",
       "      <th>14</th>\n",
       "      <td>Fürstenbergerstr. 000, Westend-Nord</td>\n",
       "      <td>30</td>\n",
       "      <td>1100</td>\n",
       "      <td>36.666667</td>\n",
       "    </tr>\n",
       "    <tr>\n",
       "      <th>15</th>\n",
       "      <td>Wehrhofstr.  000, Rödelheim</td>\n",
       "      <td>30</td>\n",
       "      <td>1090</td>\n",
       "      <td>36.333333</td>\n",
       "    </tr>\n",
       "    <tr>\n",
       "      <th>16</th>\n",
       "      <td>Sachsenhausen-Nord</td>\n",
       "      <td>30</td>\n",
       "      <td>460</td>\n",
       "      <td>15.333333</td>\n",
       "    </tr>\n",
       "    <tr>\n",
       "      <th>17</th>\n",
       "      <td>Zeilsheim</td>\n",
       "      <td>30</td>\n",
       "      <td>450</td>\n",
       "      <td>15.000000</td>\n",
       "    </tr>\n",
       "    <tr>\n",
       "      <th>18</th>\n",
       "      <td>Oppenheimer Str.  000, Sachsenhausen-Nord</td>\n",
       "      <td>30</td>\n",
       "      <td>1350</td>\n",
       "      <td>45.000000</td>\n",
       "    </tr>\n",
       "    <tr>\n",
       "      <th>19</th>\n",
       "      <td>Bettinastr.  000, Westend-Süd</td>\n",
       "      <td>29</td>\n",
       "      <td>1320</td>\n",
       "      <td>45.517241</td>\n",
       "    </tr>\n",
       "  </tbody>\n",
       "</table>\n",
       "</div>"
      ],
      "text/plain": [
       "                                     location   size  rent  rent_per_sqm\n",
       "0       Sandhöfer Allee 10, Sachsenhausen-Süd     28   700     25.000000\n",
       "1                   Triftstraße 53, Niederrad     29  1095     37.758621\n",
       "2                   Triftstraße 53, Niederrad     29  1095     37.758621\n",
       "3                   Triftstraße 53, Niederrad  29.53  1150     38.943447\n",
       "4                   Triftstraße 53, Niederrad   26.5   975     36.792453\n",
       "5                Höhenstrasse 49, Nordend-Ost     25   440     17.600000\n",
       "6                      Nußzeil 2, Eschersheim     30   770     25.666667\n",
       "7                     Ostendstr.  000, Ostend     30  1200     40.000000\n",
       "8              Grüneburgweg  000, Westend-Süd     30  1250     41.666667\n",
       "9       Willemerstr.  000, Sachsenhausen-Nord     28   980     35.000000\n",
       "10              Sternstraße 000, Nordend-West     28  1100     39.285714\n",
       "11         Textorstr. 000, Sachsenhausen-Nord     26  1250     48.076923\n",
       "12       Bindingstrasse 12, Sachsenhausen-Süd     25   600     24.000000\n",
       "13                Florastraße  10, Bockenheim     25   380     15.200000\n",
       "14        Fürstenbergerstr. 000, Westend-Nord     30  1100     36.666667\n",
       "15                Wehrhofstr.  000, Rödelheim     30  1090     36.333333\n",
       "16                         Sachsenhausen-Nord     30   460     15.333333\n",
       "17                                  Zeilsheim     30   450     15.000000\n",
       "18  Oppenheimer Str.  000, Sachsenhausen-Nord     30  1350     45.000000\n",
       "19              Bettinastr.  000, Westend-Süd     29  1320     45.517241"
      ]
     },
     "execution_count": 171,
     "metadata": {},
     "output_type": "execute_result"
    }
   ],
   "source": [
    "df"
   ]
  },
  {
   "cell_type": "code",
   "execution_count": 172,
   "metadata": {},
   "outputs": [
    {
     "data": {
      "text/plain": [
       "\"\\n# rent overview\\nx1 = df_rents.index.tolist()\\ny1 = df_rents['Frankfurt_rent'].tolist()\\nz1 = df_rents['Gallus_rent'].tolist()\\nax[1].plot(x1,y1, color = 'grey')\\nax[1].plot(x1,z1, color = 'orange')\\n\\nax[1].set_xlabel('Year', fontsize = 15)\\nax[1].set_ylabel('Rent per sqm in EUR', fontsize = 15)\\nax[1].set_title('Average Rent Per SQM', fontsize = 15)\\n\\nrcParams['axes.titlepad'] = 20\\nrcParams['axes.labelpad'] =20\\n\\n#legend\\n\\nax[0].legend(['Frankfurt City', 'Gallus'])\\nax[1].legend(['Frankfurt City', 'Gallus'])\\n\\n#labels\\nax[0].set_xticks(np.arange(min(x), max(x)+1, 1.0))\\nax[1].set_xticks(np.arange(min(x), max(x)+1, 1.0))\\nx_labels = ['q4 2015', 'q4 2016', 'q4 2017', 'q2 2018']\\nax[0].set_xticklabels(x_labels)\\nax[1].set_xticklabels(x_labels)\\n\\n# graphic title\\n\\nfig.suptitle('Growth Comparison: Gallus Quarter vs. Frankfurt City Proper', fontsize = 20)\\n\\n\\n# coloring area\\n\\nax[0].set_facecolor(color = 'white')\\nax[1].set_facecolor(color = 'white')\\nax[0].grid(color = '#d6d6d6', axis = 'both')\\nax[1].grid(color = '#d6d6d6', axis = 'both')\\n\\n# logo placement\\nlogo = plt.imread('theGermanExpert-logo-black.png')\\nax[1].figure.figimage(logo, 740, 85, alpha=.15, zorder=1)\\nfig.savefig('gallus_growth_comparison.png', bbox_inches = 'tight', dpi = 500, transparent=False)\\n\""
      ]
     },
     "execution_count": 172,
     "metadata": {},
     "output_type": "execute_result"
    },
    {
     "data": {
      "text/plain": [
       "<Figure size 432x288 with 0 Axes>"
      ]
     },
     "metadata": {},
     "output_type": "display_data"
    },
    {
     "data": {
      "image/png": "[encoded data removed]",
      "text/plain": [
       "<Figure size 1080x720 with 1 Axes>"
      ]
     },
     "metadata": {},
     "output_type": "display_data"
    }
   ],
   "source": [
    "fig = plt.figure()\n",
    "fig, ax = plt.subplots(nrows=1, ncols=1)\n",
    "plt.style.use('ggplot')\n",
    "fig.set_size_inches(15,10)\n",
    "\n",
    "x = df['location'].tolist()\n",
    "y = df['rent_per_sqm'].tolist()\n",
    "ax.bar(x,y, color = 'orange')\n",
    "\n",
    "plt.xticks(rotation = 'vertical')\n",
    "\n",
    "ax.set_facecolor(color = 'white')\n",
    "ax.grid(color = '#d6d6d6', axis = 'both')\n",
    "\n",
    "logo = plt.imread('theGermanExpert-logo-black.png')\n",
    "ax.figure.figimage(logo, 720, 790, alpha=.15, zorder=1)\n",
    "fig.suptitle('Frankfurt Furnished Flats: Rent per sqm', fontsize = 20)\n",
    "fig.savefig('furnished_in_frankfurt', bbox_inches = 'tight', dpi = 500, transparent=False)\n",
    "\"\"\"\n",
    "ax.set_xlabel('Year', fontsize = 15)\n",
    "ax.set_ylabel('Price per sqm in EUR', fontsize = 15)\n",
    "ax.set_title('Average Purchase Price Per SQM')\n",
    "\"\"\"\n",
    "\"\"\"\n",
    "# rent overview\n",
    "x1 = df_rents.index.tolist()\n",
    "y1 = df_rents['Frankfurt_rent'].tolist()\n",
    "z1 = df_rents['Gallus_rent'].tolist()\n",
    "ax[1].plot(x1,y1, color = 'grey')\n",
    "ax[1].plot(x1,z1, color = 'orange')\n",
    "\n",
    "ax[1].set_xlabel('Year', fontsize = 15)\n",
    "ax[1].set_ylabel('Rent per sqm in EUR', fontsize = 15)\n",
    "ax[1].set_title('Average Rent Per SQM', fontsize = 15)\n",
    "\n",
    "rcParams['axes.titlepad'] = 20\n",
    "rcParams['axes.labelpad'] =20\n",
    "\n",
    "#legend\n",
    "\n",
    "ax[0].legend(['Frankfurt City', 'Gallus'])\n",
    "ax[1].legend(['Frankfurt City', 'Gallus'])\n",
    "\n",
    "#labels\n",
    "ax[0].set_xticks(np.arange(min(x), max(x)+1, 1.0))\n",
    "ax[1].set_xticks(np.arange(min(x), max(x)+1, 1.0))\n",
    "x_labels = ['q4 2015', 'q4 2016', 'q4 2017', 'q2 2018']\n",
    "ax[0].set_xticklabels(x_labels)\n",
    "ax[1].set_xticklabels(x_labels)\n",
    "\n",
    "# graphic title\n",
    "\n",
    "fig.suptitle('Growth Comparison: Gallus Quarter vs. Frankfurt City Proper', fontsize = 20)\n",
    "\n",
    "\n",
    "# coloring area\n",
    "\n",
    "ax[0].set_facecolor(color = 'white')\n",
    "ax[1].set_facecolor(color = 'white')\n",
    "ax[0].grid(color = '#d6d6d6', axis = 'both')\n",
    "ax[1].grid(color = '#d6d6d6', axis = 'both')\n",
    "\n",
    "# logo placement\n",
    "logo = plt.imread('theGermanExpert-logo-black.png')\n",
    "ax[1].figure.figimage(logo, 740, 85, alpha=.15, zorder=1)\n",
    "fig.savefig('gallus_growth_comparison.png', bbox_inches = 'tight', dpi = 500, transparent=False)\n",
    "\"\"\""
   ]
  },
  {
   "cell_type": "code",
   "execution_count": null,
   "metadata": {},
   "outputs": [],
   "source": []
  },
  {
   "cell_type": "code",
   "execution_count": null,
   "metadata": {},
   "outputs": [],
   "source": []
  }
 ],
 "metadata": {
  "kernelspec": {
   "display_name": "Python 3",
   "language": "python",
   "name": "python3"
  },
  "language_info": {
   "codemirror_mode": {
    "name": "ipython",
    "version": 3
   },
   "file_extension": ".py",
   "mimetype": "text/x-python",
   "name": "python",
   "nbconvert_exporter": "python",
   "pygments_lexer": "ipython3",
   "version": "3.6.5"
  }
 },
 "nbformat": 4,
 "nbformat_minor": 2
}
